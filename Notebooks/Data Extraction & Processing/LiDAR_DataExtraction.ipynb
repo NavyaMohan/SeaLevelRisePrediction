{
  "nbformat": 4,
  "nbformat_minor": 0,
  "metadata": {
    "colab": {
      "provenance": []
    },
    "kernelspec": {
      "name": "python3",
      "display_name": "Python 3"
    },
    "language_info": {
      "name": "python"
    }
  },
  "cells": [
    {
      "cell_type": "code",
      "execution_count": null,
      "metadata": {
        "id": "j3oWCKHd8wjq"
      },
      "outputs": [],
      "source": [
        "from google.colab import auth\n",
        "auth.authenticate_user()"
      ]
    },
    {
      "cell_type": "markdown",
      "source": [
        "**Installing Required Libraries**"
      ],
      "metadata": {
        "id": "sNYCy4uh9r4Q"
      }
    },
    {
      "cell_type": "code",
      "source": [
        "!echo \"deb http://packages.cloud.google.com/apt gcsfuse-bionic main\" > /etc/apt/sources.list.d/gcsfuse.list\n",
        "!curl https://packages.cloud.google.com/apt/doc/apt-key.gpg | apt-key add -\n",
        "!apt -qq update\n",
        "!apt -qq install gcsfuse"
      ],
      "metadata": {
        "colab": {
          "base_uri": "https://localhost:8080/"
        },
        "id": "rXPPW0xd8ygH",
        "outputId": "9d4707a1-c0c8-4eb2-d3d5-f4bc7d51768d"
      },
      "execution_count": null,
      "outputs": [
        {
          "output_type": "stream",
          "name": "stdout",
          "text": [
            "  % Total    % Received % Xferd  Average Speed   Time    Time     Time  Current\n",
            "                                 Dload  Upload   Total   Spent    Left  Speed\n",
            "\r  0     0    0     0    0     0      0      0 --:--:-- --:--:-- --:--:--     0\r100  2537  100  2537    0     0  70472      0 --:--:-- --:--:-- --:--:-- 72485\n",
            "OK\n",
            "29 packages can be upgraded. Run 'apt list --upgradable' to see them.\n",
            "The following package was automatically installed and is no longer required:\n",
            "  libnvidia-common-460\n",
            "Use 'apt autoremove' to remove it.\n",
            "The following NEW packages will be installed:\n",
            "  gcsfuse\n",
            "0 upgraded, 1 newly installed, 0 to remove and 29 not upgraded.\n",
            "Need to get 12.1 MB of archives.\n",
            "After this operation, 27.6 MB of additional disk space will be used.\n",
            "Selecting previously unselected package gcsfuse.\n",
            "(Reading database ... 123942 files and directories currently installed.)\n",
            "Preparing to unpack .../gcsfuse_0.41.7_amd64.deb ...\n",
            "Unpacking gcsfuse (0.41.7) ...\n",
            "Setting up gcsfuse (0.41.7) ...\n"
          ]
        }
      ]
    },
    {
      "cell_type": "code",
      "source": [
        "!pip install laspy"
      ],
      "metadata": {
        "colab": {
          "base_uri": "https://localhost:8080/"
        },
        "id": "Zqui7_M285FU",
        "outputId": "e6f8c3a3-921d-4365-bb97-aa4a5801c804"
      },
      "execution_count": null,
      "outputs": [
        {
          "output_type": "stream",
          "name": "stdout",
          "text": [
            "Looking in indexes: https://pypi.org/simple, https://us-python.pkg.dev/colab-wheels/public/simple/\n",
            "Collecting laspy\n",
            "  Downloading laspy-2.2.0.tar.gz (615 kB)\n",
            "\u001b[K     |████████████████████████████████| 615 kB 24.7 MB/s \n",
            "\u001b[?25h  Installing build dependencies ... \u001b[?25l\u001b[?25hdone\n",
            "  Getting requirements to build wheel ... \u001b[?25l\u001b[?25hdone\n",
            "    Preparing wheel metadata ... \u001b[?25l\u001b[?25hdone\n",
            "Requirement already satisfied: numpy in /usr/local/lib/python3.7/dist-packages (from laspy) (1.21.6)\n",
            "Building wheels for collected packages: laspy\n",
            "  Building wheel for laspy (PEP 517) ... \u001b[?25l\u001b[?25hdone\n",
            "  Created wheel for laspy: filename=laspy-2.2.0-py3-none-any.whl size=63856 sha256=78a4eaabba3b00d58a45686570b734bc9cd6c738f7d7cd70e9b9c638d5658152\n",
            "  Stored in directory: /root/.cache/pip/wheels/19/6e/01/0dfe379f345dfcfd77907d182cc2b6bae804b52eba66c028f6\n",
            "Successfully built laspy\n",
            "Installing collected packages: laspy\n",
            "Successfully installed laspy-2.2.0\n"
          ]
        }
      ]
    },
    {
      "cell_type": "code",
      "source": [
        "!pip install pylas[lazrs,laszip]"
      ],
      "metadata": {
        "colab": {
          "base_uri": "https://localhost:8080/"
        },
        "id": "ouI91nX688qh",
        "outputId": "8dcd6078-295d-44e9-f319-01a449f38d22"
      },
      "execution_count": null,
      "outputs": [
        {
          "output_type": "stream",
          "name": "stdout",
          "text": [
            "Looking in indexes: https://pypi.org/simple, https://us-python.pkg.dev/colab-wheels/public/simple/\n",
            "Collecting pylas[laszip,lazrs]\n",
            "  Downloading pylas-0.4.3.tar.gz (31 kB)\n",
            "\u001b[33mWARNING: pylas 0.4.3 does not provide the extra 'laszip'\u001b[0m\n",
            "Requirement already satisfied: numpy in /usr/local/lib/python3.7/dist-packages (from pylas[laszip,lazrs]) (1.21.6)\n",
            "Collecting lazrs<0.2.0,>=0.1.0\n",
            "  Downloading lazrs-0.1.1-cp37-cp37m-manylinux1_x86_64.whl (921 kB)\n",
            "\u001b[K     |████████████████████████████████| 921 kB 37.6 MB/s \n",
            "\u001b[?25hBuilding wheels for collected packages: pylas\n",
            "  Building wheel for pylas (setup.py) ... \u001b[?25l\u001b[?25hdone\n",
            "  Created wheel for pylas: filename=pylas-0.4.3-py3-none-any.whl size=40353 sha256=29aa11c02c2bf1ee0d0a82d9e1ca21ce88461cd5f3f1a9272d615a7ead456128\n",
            "  Stored in directory: /root/.cache/pip/wheels/b2/af/a6/c8c7ce1b3dc27174d5524f6c9cca5df59974caca07534d4408\n",
            "Successfully built pylas\n",
            "Installing collected packages: pylas, lazrs\n",
            "Successfully installed lazrs-0.1.1 pylas-0.4.3\n"
          ]
        }
      ]
    },
    {
      "cell_type": "code",
      "source": [
        "!pip install fsspec"
      ],
      "metadata": {
        "colab": {
          "base_uri": "https://localhost:8080/"
        },
        "id": "PraeIbOO8--I",
        "outputId": "6b98f24d-6bfd-46f0-f457-c2a7da1641b5"
      },
      "execution_count": null,
      "outputs": [
        {
          "output_type": "stream",
          "name": "stdout",
          "text": [
            "Looking in indexes: https://pypi.org/simple, https://us-python.pkg.dev/colab-wheels/public/simple/\n",
            "Requirement already satisfied: fsspec in /usr/local/lib/python3.7/dist-packages (2022.8.2)\n"
          ]
        }
      ]
    },
    {
      "cell_type": "code",
      "source": [
        "!pip install gcsfs"
      ],
      "metadata": {
        "colab": {
          "base_uri": "https://localhost:8080/"
        },
        "id": "Z8jw1fXo9GvF",
        "outputId": "1da30655-68ae-436f-f12b-9e711607db9c"
      },
      "execution_count": null,
      "outputs": [
        {
          "output_type": "stream",
          "name": "stdout",
          "text": [
            "Looking in indexes: https://pypi.org/simple, https://us-python.pkg.dev/colab-wheels/public/simple/\n",
            "Collecting gcsfs\n",
            "  Downloading gcsfs-2022.10.0-py2.py3-none-any.whl (25 kB)\n",
            "Requirement already satisfied: google-auth>=1.2 in /usr/local/lib/python3.7/dist-packages (from gcsfs) (1.35.0)\n",
            "Collecting fsspec==2022.10.0\n",
            "  Downloading fsspec-2022.10.0-py3-none-any.whl (138 kB)\n",
            "\u001b[K     |████████████████████████████████| 138 kB 27.0 MB/s \n",
            "\u001b[?25hRequirement already satisfied: google-cloud-storage in /usr/local/lib/python3.7/dist-packages (from gcsfs) (1.18.1)\n",
            "Requirement already satisfied: decorator>4.1.2 in /usr/local/lib/python3.7/dist-packages (from gcsfs) (4.4.2)\n",
            "Requirement already satisfied: google-auth-oauthlib in /usr/local/lib/python3.7/dist-packages (from gcsfs) (0.4.6)\n",
            "Requirement already satisfied: requests in /usr/local/lib/python3.7/dist-packages (from gcsfs) (2.23.0)\n",
            "Requirement already satisfied: aiohttp!=4.0.0a0,!=4.0.0a1 in /usr/local/lib/python3.7/dist-packages (from gcsfs) (3.8.3)\n",
            "Requirement already satisfied: charset-normalizer<3.0,>=2.0 in /usr/local/lib/python3.7/dist-packages (from aiohttp!=4.0.0a0,!=4.0.0a1->gcsfs) (2.1.1)\n",
            "Requirement already satisfied: typing-extensions>=3.7.4 in /usr/local/lib/python3.7/dist-packages (from aiohttp!=4.0.0a0,!=4.0.0a1->gcsfs) (4.1.1)\n",
            "Requirement already satisfied: frozenlist>=1.1.1 in /usr/local/lib/python3.7/dist-packages (from aiohttp!=4.0.0a0,!=4.0.0a1->gcsfs) (1.3.1)\n",
            "Requirement already satisfied: aiosignal>=1.1.2 in /usr/local/lib/python3.7/dist-packages (from aiohttp!=4.0.0a0,!=4.0.0a1->gcsfs) (1.2.0)\n",
            "Requirement already satisfied: asynctest==0.13.0 in /usr/local/lib/python3.7/dist-packages (from aiohttp!=4.0.0a0,!=4.0.0a1->gcsfs) (0.13.0)\n",
            "Requirement already satisfied: multidict<7.0,>=4.5 in /usr/local/lib/python3.7/dist-packages (from aiohttp!=4.0.0a0,!=4.0.0a1->gcsfs) (6.0.2)\n",
            "Requirement already satisfied: async-timeout<5.0,>=4.0.0a3 in /usr/local/lib/python3.7/dist-packages (from aiohttp!=4.0.0a0,!=4.0.0a1->gcsfs) (4.0.2)\n",
            "Requirement already satisfied: attrs>=17.3.0 in /usr/local/lib/python3.7/dist-packages (from aiohttp!=4.0.0a0,!=4.0.0a1->gcsfs) (22.1.0)\n",
            "Requirement already satisfied: yarl<2.0,>=1.0 in /usr/local/lib/python3.7/dist-packages (from aiohttp!=4.0.0a0,!=4.0.0a1->gcsfs) (1.8.1)\n",
            "Requirement already satisfied: cachetools<5.0,>=2.0.0 in /usr/local/lib/python3.7/dist-packages (from google-auth>=1.2->gcsfs) (4.2.4)\n",
            "Requirement already satisfied: setuptools>=40.3.0 in /usr/local/lib/python3.7/dist-packages (from google-auth>=1.2->gcsfs) (57.4.0)\n",
            "Requirement already satisfied: rsa<5,>=3.1.4 in /usr/local/lib/python3.7/dist-packages (from google-auth>=1.2->gcsfs) (4.9)\n",
            "Requirement already satisfied: six>=1.9.0 in /usr/local/lib/python3.7/dist-packages (from google-auth>=1.2->gcsfs) (1.15.0)\n",
            "Requirement already satisfied: pyasn1-modules>=0.2.1 in /usr/local/lib/python3.7/dist-packages (from google-auth>=1.2->gcsfs) (0.2.8)\n",
            "Requirement already satisfied: pyasn1<0.5.0,>=0.4.6 in /usr/local/lib/python3.7/dist-packages (from pyasn1-modules>=0.2.1->google-auth>=1.2->gcsfs) (0.4.8)\n",
            "Requirement already satisfied: idna>=2.0 in /usr/local/lib/python3.7/dist-packages (from yarl<2.0,>=1.0->aiohttp!=4.0.0a0,!=4.0.0a1->gcsfs) (2.10)\n",
            "Requirement already satisfied: requests-oauthlib>=0.7.0 in /usr/local/lib/python3.7/dist-packages (from google-auth-oauthlib->gcsfs) (1.3.1)\n",
            "Requirement already satisfied: oauthlib>=3.0.0 in /usr/local/lib/python3.7/dist-packages (from requests-oauthlib>=0.7.0->google-auth-oauthlib->gcsfs) (3.2.1)\n",
            "Requirement already satisfied: urllib3!=1.25.0,!=1.25.1,<1.26,>=1.21.1 in /usr/local/lib/python3.7/dist-packages (from requests->gcsfs) (1.24.3)\n",
            "Requirement already satisfied: chardet<4,>=3.0.2 in /usr/local/lib/python3.7/dist-packages (from requests->gcsfs) (3.0.4)\n",
            "Requirement already satisfied: certifi>=2017.4.17 in /usr/local/lib/python3.7/dist-packages (from requests->gcsfs) (2022.9.24)\n",
            "Requirement already satisfied: google-cloud-core<2.0dev,>=1.0.0 in /usr/local/lib/python3.7/dist-packages (from google-cloud-storage->gcsfs) (1.0.3)\n",
            "Requirement already satisfied: google-resumable-media<0.5.0dev,>=0.3.1 in /usr/local/lib/python3.7/dist-packages (from google-cloud-storage->gcsfs) (0.4.1)\n",
            "Requirement already satisfied: google-api-core<2.0.0dev,>=1.14.0 in /usr/local/lib/python3.7/dist-packages (from google-cloud-core<2.0dev,>=1.0.0->google-cloud-storage->gcsfs) (1.31.6)\n",
            "Requirement already satisfied: googleapis-common-protos<2.0dev,>=1.6.0 in /usr/local/lib/python3.7/dist-packages (from google-api-core<2.0.0dev,>=1.14.0->google-cloud-core<2.0dev,>=1.0.0->google-cloud-storage->gcsfs) (1.56.4)\n",
            "Requirement already satisfied: pytz in /usr/local/lib/python3.7/dist-packages (from google-api-core<2.0.0dev,>=1.14.0->google-cloud-core<2.0dev,>=1.0.0->google-cloud-storage->gcsfs) (2022.4)\n",
            "Requirement already satisfied: protobuf<4.0.0dev,>=3.12.0 in /usr/local/lib/python3.7/dist-packages (from google-api-core<2.0.0dev,>=1.14.0->google-cloud-core<2.0dev,>=1.0.0->google-cloud-storage->gcsfs) (3.17.3)\n",
            "Requirement already satisfied: packaging>=14.3 in /usr/local/lib/python3.7/dist-packages (from google-api-core<2.0.0dev,>=1.14.0->google-cloud-core<2.0dev,>=1.0.0->google-cloud-storage->gcsfs) (21.3)\n",
            "Requirement already satisfied: pyparsing!=3.0.5,>=2.0.2 in /usr/local/lib/python3.7/dist-packages (from packaging>=14.3->google-api-core<2.0.0dev,>=1.14.0->google-cloud-core<2.0dev,>=1.0.0->google-cloud-storage->gcsfs) (3.0.9)\n",
            "Installing collected packages: fsspec, gcsfs\n",
            "  Attempting uninstall: fsspec\n",
            "    Found existing installation: fsspec 2022.8.2\n",
            "    Uninstalling fsspec-2022.8.2:\n",
            "      Successfully uninstalled fsspec-2022.8.2\n",
            "Successfully installed fsspec-2022.10.0 gcsfs-2022.10.0\n"
          ]
        }
      ]
    },
    {
      "cell_type": "markdown",
      "source": [
        "**Import Libraries**"
      ],
      "metadata": {
        "id": "T_AnMVu192js"
      }
    },
    {
      "cell_type": "code",
      "source": [
        "import laspy\n",
        "import numpy as np\n",
        "import pandas as pd\n",
        "from mpl_toolkits import mplot3d\n",
        "import sys\n",
        "import matplotlib.pyplot as plt\n",
        "import datetime\n",
        "import time\n",
        "%matplotlib\n",
        "import pylas"
      ],
      "metadata": {
        "colab": {
          "base_uri": "https://localhost:8080/"
        },
        "id": "i-EhGg6P9LN9",
        "outputId": "8a9c98c8-5610-4e84-a3ae-435b745a88a5"
      },
      "execution_count": null,
      "outputs": [
        {
          "output_type": "stream",
          "name": "stdout",
          "text": [
            "Using matplotlib backend: agg\n"
          ]
        }
      ]
    },
    {
      "cell_type": "markdown",
      "source": [
        "**GPS to UTC Time Conversion Function**"
      ],
      "metadata": {
        "id": "AJWhha1_99t_"
      }
    },
    {
      "cell_type": "code",
      "source": [
        "from datetime import datetime     #2010-10-26 23:58:34.728675 2010-10-26 23:58:34.728683  2010-10-27 00:41:34.539662\n",
        "from datetime import timedelta\n",
        "def gps_time_conversion(gps_time):\n",
        "    x= gps_time + (10 ** 9)\n",
        "    y=x/86400\n",
        "    Begindatestring=\"1980-01-06\"\n",
        "    Begindate = datetime.strptime(Begindatestring, \"%Y-%m-%d\")\n",
        "    Enddate = Begindate + timedelta(days=y)\n",
        "    return Enddate.strftime(\"%Y-%m-%d %H:%M:%S\")"
      ],
      "metadata": {
        "id": "OevePyWy9NtH"
      },
      "execution_count": null,
      "outputs": []
    },
    {
      "cell_type": "markdown",
      "source": [
        "**Connect and Download .LAZ files from GCP**"
      ],
      "metadata": {
        "id": "Gmw8Js1z-C3K"
      }
    },
    {
      "cell_type": "code",
      "source": [
        "from google.cloud import storage\n",
        "import os\n",
        "\n",
        "from google.colab import auth\n",
        "auth.authenticate_user()\n",
        "def download_file(filename):\n",
        "  client = storage.Client()\n",
        "  bucket = client.get_bucket('sanddiego2015')  \n",
        "  blob = bucket.blob(filename)\n",
        "  blob.download_to_filename(filename)\n",
        "  print(\"i am the file\",filename)"
      ],
      "metadata": {
        "id": "EdwzFpgw9iFt"
      },
      "execution_count": null,
      "outputs": []
    },
    {
      "cell_type": "markdown",
      "source": [
        "**To Convert .LAZ to LAS - Extract data points from LiDAR files**"
      ],
      "metadata": {
        "id": "1sj0F8UJ-MZL"
      }
    },
    {
      "cell_type": "code",
      "source": [
        "import os\n",
        "\n",
        "import csv\n",
        "  \n",
        "# Open file \n",
        "import csv\n",
        "with open('/content/Book3.csv', newline='') as csvfile:\n",
        "  data = csv.reader(csvfile, delimiter=' ', quotechar='|')\n",
        "  for row in data:\n",
        "   a=', '.join(row)\n",
        "   if('\\ufeff' in a ):\n",
        "     b=a.replace('\\ufeff','')\n",
        "     b=b.replace('./','')\n",
        "   else:\n",
        "    b=a.replace('./','')\n",
        "   input_laz_path = '/content/'+ b \n",
        "   print()\n",
        "   lat = []\n",
        "   lon = []\n",
        "   k=0\n",
        "   download_file(b)\n",
        "\n",
        "   laz = pylas.read(input_laz_path)\n",
        "   las = pylas.convert(laz)\n",
        "   a=b.replace('.laz','.las')\n",
        "   output_las_path = '/content/output/' + a\n",
        "   print(output_las_path)\n",
        "   las.write(output_las_path)\n",
        "   las = laspy.read(output_las_path)\n",
        "   Lidar_data_points=pd.DataFrame(np.round(np.array(las.x),4),columns=['x']) \n",
        "   Lidar_data_points['y']=np.array(np.round(np.array(las.y),4))\n",
        "   Lidar_data_points['z']=np.array(las.z)\n",
        "   Lidar_data_points['X']=np.array(las.X)\n",
        "   Lidar_data_points['Y']=np.array(las.Y)\n",
        "   Lidar_data_points['classification']=np.array(las.classification)\n",
        "   Lidar_data_points['gps_time']=las.gps_time\n",
        "   os.remove(output_las_path) \n",
        "   dataset1 = Lidar_data_points[(Lidar_data_points.classification == 9)]\n",
        "   dataset1['Time'] = dataset1['gps_time'].apply(gps_time_conversion)\n",
        "   finaldata=dataset1.iloc[::20, :]\n",
        "   filename= a.replace('.las','.csv')\n",
        "   print(filename)\n",
        "   client = storage.Client()\n",
        "   bucket = client.get_bucket('slr-test-bucket')\n",
        "   bucket.blob('Sanddiego2015_CSV/'+ filename).upload_from_string(finaldata.to_csv(), 'text/csv') \n",
        "   os.remove(input_laz_path)\n"
      ],
      "metadata": {
        "id": "CgD4k7RJ9SZZ"
      },
      "execution_count": null,
      "outputs": []
    }
  ]
}